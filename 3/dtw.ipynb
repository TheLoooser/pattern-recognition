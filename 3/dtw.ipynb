{
 "cells": [
  {
   "cell_type": "markdown",
   "metadata": {},
   "source": [
    "# Dynamic Time Warping\n",
    "\n",
    "## Files and Data\n",
    "#### ground-truth folder\n",
    "Contains ground truth data.\n",
    "\n",
    "\n",
    "#### transcription.txt  \n",
    "- XXX-YY-ZZ: XXX = Document Number, YY = Line Number, ZZ = Word Number\n",
    "- Contains the character-wise transcription of the word (letters seperated with dashes)\n",
    "- Special characters denoted with s_\n",
    "\t- numbers (s_x)\n",
    "\t- punctuation (s_pt, s_cm, ...)\n",
    "\t- strong s (s_s)\n",
    "\t- hyphen (s_mi)\n",
    "\t- semicolon (s_sq)\n",
    "\t- apostrophe (s_qt)\n",
    "\t- colon (s_qo)\n",
    "    \n",
    "### Task\n",
    "Three files:  \n",
    "##### training and test data:\n",
    "train.txt, valid.txt\n",
    "both contain a list of documents\n",
    "##### keywords that are at least once in the training and validation set defined by train.txt and valid.txt\n",
    "keywords.txt\n",
    "\n"
   ]
  },
  {
   "cell_type": "code",
   "execution_count": 1,
   "metadata": {},
   "outputs": [],
   "source": [
    "import numpy as np\n",
    "from matplotlib import pyplot as plt\n",
    "import PIL\n",
    "import cv2\n",
    "import os"
   ]
  },
  {
   "cell_type": "code",
   "execution_count": 2,
   "metadata": {},
   "outputs": [
    {
     "name": "stdout",
     "output_type": "stream",
     "text": [
      "['270', '271', '272', '273', '274', '275', '276', '277', '278', '279', '300', '301', '302', '303', '304']\n"
     ]
    }
   ],
   "source": [
    "IMAGES_PATH = \"./word-images/\"\n",
    "DIRS = sorted([name for name in os.listdir(IMAGES_PATH)])\n",
    "\n",
    "#Testing\n",
    "print(DIRS)"
   ]
  },
  {
   "cell_type": "code",
   "execution_count": 3,
   "metadata": {},
   "outputs": [],
   "source": [
    "# returns list of numpy arrays with the pixel values\n",
    "def import_images():\n",
    "    images = list()\n",
    "    id_ = 0\n",
    "    for folder in DIRS:\n",
    "        img_paths = IMAGES_PATH + folder\n",
    "        # this sorts png files in the numerical order rather then the fancy string order\n",
    "        # pls do not touch\n",
    "        sorted_image_file_paths = [str(p) + \".png\" for p in sorted([int(i.strip(\".png\")) for i in os.listdir(img_paths)])]\n",
    "        for image in sorted_image_file_paths:\n",
    "            images.append({ \"id\": id_, \"document\": folder, \"image\": cv2.imread(img_paths + \"/\" + image,0) })\n",
    "            id_ += 1\n",
    "    return images\n",
    "\n",
    "def display_image(image):\n",
    "    plt.imshow(image, interpolation='nearest', cmap='gray')\n",
    "    plt.xticks([]), plt.yticks([])  # to hide tick values on X and Y axis\n",
    "    plt.show()"
   ]
  },
  {
   "cell_type": "code",
   "execution_count": 8,
   "metadata": {},
   "outputs": [
    {
     "name": "stdout",
     "output_type": "stream",
     "text": [
      "[[255 255 255 ... 255 255 255]\n",
      " [255 255 255 ... 255 255 255]\n",
      " [255 255 255 ... 255 255 255]\n",
      " ...\n",
      " [255 255 255 ... 255 255 255]\n",
      " [255 255 255 ... 255 255 255]\n",
      " [255 255 255 ... 255 255 255]]\n",
      "(200, 200)\n",
      "[1 0 0 ... 0 0 0]\n",
      "(24375,)\n"
     ]
    }
   ],
   "source": [
    "# image size reduction\n",
    "\n",
    "# changes grey image to binary image\n",
    "def binarize(image, treshold=250):\n",
    "    for index in range(len(image)):\n",
    "        image[index] =  0 if image[index] < treshold else 1\n",
    "    return image\n",
    "\n",
    "# removes leading and trailing white pixels from binary image\n",
    "def trim_lead_and_tail(image):\n",
    "    start = -1\n",
    "    end = len(image)\n",
    "    index = 0\n",
    "    for value in image:\n",
    "        # first black value\n",
    "        if start == -1 and value < 1:\n",
    "            start = index -1\n",
    "        # last black value\n",
    "        if value < 1:\n",
    "            end = index\n",
    "        index += 1\n",
    "    return image[start:end]\n",
    "\n",
    "def reduce_image(image):\n",
    "    # flatten array\n",
    "    image = np.array(np.hstack(image))\n",
    "    image = binarize(image)\n",
    "    image = trim_lead_and_tail(image)\n",
    "    return image\n",
    "\n",
    "# Testing\n",
    "# can only be run after image import\n",
    "image = IMAGES[0]['image']\n",
    "print(image)\n",
    "print(image.shape)\n",
    "image = reduce_image(image)\n",
    "print(image)\n",
    "print(image.shape)"
   ]
  },
  {
   "cell_type": "code",
   "execution_count": 5,
   "metadata": {},
   "outputs": [
    {
     "name": "stdout",
     "output_type": "stream",
     "text": [
      "{0: {'document': '275', 'line': '07', 'col': '09', 'word': 'r-e-m-a-r-k-a-b-l-y'}, 1: {'document': '275', 'line': '08', 'col': '01', 'word': 'a-w-k-w-a-r-d-s_cm'}, 2: {'document': '275', 'line': '08', 'col': '02', 'word': 'p-a-r-t-i-c-u-l-a-r'}}\n",
      "[1]\n"
     ]
    }
   ],
   "source": [
    "# get the transcription of all words\n",
    "def get_file(filepath):\n",
    "    lines = list()\n",
    "    with open(filepath, 'r') as f:\n",
    "        lines = f.read().splitlines()\n",
    "    return lines\n",
    "\n",
    "# unpacks a row from the transcript, return a dict with the corresponding values\n",
    "def parse_transcript_row(row):\n",
    "    metadata, word = row.split(\" \")\n",
    "    document, line, col = metadata.split(\"-\")\n",
    "    # special_char = \"\"\n",
    "    # if \"_\" in word:\n",
    "    #   word, special_chars = word.split(\"_\")\n",
    "    return {\"document\": document, \"line\": line, \"col\": col, \"word\": word}\n",
    "\n",
    "# Testing\n",
    "parse_transcript_row(\"274-20-02 C-a-t-t-l-e-s_cm\")\n",
    "\n",
    "# parse all words to usable dict\n",
    "def parse_transcript(transcript):\n",
    "    data = dict()\n",
    "    id_counter = 0\n",
    "    for row in transcript:\n",
    "        data[id_counter] = parse_transcript_row(row)\n",
    "        id_counter += 1\n",
    "    return data\n",
    "\n",
    "# finds an entry in the transcript based on the word, returns all found entries ids\n",
    "def find_by_word(transcript, word):\n",
    "    ids = list()\n",
    "    for id_, item in transcript.items():\n",
    "        if item['word'] == word:\n",
    "            ids.append(id_)\n",
    "    return ids\n",
    "\n",
    "# Testing\n",
    "transcript = np.array([\"275-07-09 r-e-m-a-r-k-a-b-l-y\",\n",
    "                      \"275-08-01 a-w-k-w-a-r-d-s_cm\", \"275-08-02 p-a-r-t-i-c-u-l-a-r\"])\n",
    "transcript = parse_transcript(transcript)\n",
    "print(transcript)\n",
    "\n",
    "print(find_by_word(transcript, \"a-w-k-w-a-r-d-s_cm\"))"
   ]
  },
  {
   "cell_type": "code",
   "execution_count": 6,
   "metadata": {},
   "outputs": [
    {
     "name": "stdout",
     "output_type": "stream",
     "text": [
      "{'document': '273', 'line': '23', 'col': '05', 'word': 'A-l-e-x-a-n-d-r-i-a'}\n"
     ]
    },
    {
     "data": {
      "image/png": "[encoded data removed]",
      "text/plain": [
       "<Figure size 432x288 with 1 Axes>"
      ]
     },
     "metadata": {},
     "output_type": "display_data"
    }
   ],
   "source": [
    "# files where keywords for validation are located\n",
    "VALID_DOCUMENT_IDS = get_file('valid.txt')\n",
    "# files where keywords for training are located\n",
    "TRAIN_DOCUMENT_IDS = get_file('train.txt')\n",
    "# list of words which are present in the training set and also in the valid set\n",
    "KEYWORDS = get_file('keywords.txt')\n",
    "# dict of images with pages and image as np array\n",
    "IMAGES = import_images()\n",
    "\n",
    "transcript_list = get_file('ground-truth/transcription.txt')\n",
    "# final transcript with all infos about words\n",
    "TRANSCRIPT = parse_transcript(transcript_list)\n",
    "\n",
    "## the id for IMAGES corresponds to the word in TRANSCRIPT. so IMAGES[1] is the word in TRANSCRIPT[1]\n",
    "\n",
    "print(TRANSCRIPT[872])\n",
    "display_image(IMAGES[872]['image'])\n"
   ]
  },
  {
   "cell_type": "code",
   "execution_count": 11,
   "metadata": {},
   "outputs": [
    {
     "name": "stdout",
     "output_type": "stream",
     "text": [
      "initial size 30128\n",
      "reduced size 30128\n"
     ]
    }
   ],
   "source": [
    "## Reduce images to flat, binary, trimmed array\n",
    "IMAGES_REDUCED = IMAGES\n",
    "for image in IMAGES_REDUCED:\n",
    "    image['image'] = reduce_image(image['image']) "
   ]
  },
  {
   "cell_type": "code",
   "execution_count": 15,
   "metadata": {},
   "outputs": [],
   "source": [
    "# save dictionary with images and load it again\n",
    "import pickle\n",
    "\n",
    "def save_obj(obj, name ):\n",
    "    with open('obj/'+ name + '.pkl', 'wb') as f:\n",
    "        pickle.dump(obj, f, pickle.HIGHEST_PROTOCOL)\n",
    "\n",
    "def load_obj(name ):\n",
    "    with open('obj/' + name + '.pkl', 'rb') as f:\n",
    "        return pickle.load(f)\n",
    "    \n",
    "save_obj(IMAGES_REDUCED, \"images_reduced\")"
   ]
  },
  {
   "cell_type": "markdown",
   "metadata": {},
   "source": [
    "## Testing"
   ]
  },
  {
   "cell_type": "code",
   "execution_count": null,
   "metadata": {},
   "outputs": [],
   "source": [
    "# example usage for find_by_word\n",
    "ids_ = find_by_word(TRANSCRIPT, 'A-l-e-x-a-n-d-r-i-a')\n",
    "print(ids_)\n",
    "\n",
    "print([TRANSCRIPT[ids_[0]]])\n",
    "display_image(IMAGES[ids_[0]]['image'])\n",
    "\n"
   ]
  },
  {
   "cell_type": "code",
   "execution_count": 17,
   "metadata": {},
   "outputs": [
    {
     "name": "stdout",
     "output_type": "stream",
     "text": [
      "33648\n"
     ]
    }
   ],
   "source": [
    "testing = load_obj(\"images_reduced\")\n",
    "print(getsizeof(testing))"
   ]
  },
  {
   "cell_type": "code",
   "execution_count": null,
   "metadata": {},
   "outputs": [],
   "source": []
  },
  {
   "cell_type": "code",
   "execution_count": null,
   "metadata": {},
   "outputs": [],
   "source": []
  },
  {
   "cell_type": "code",
   "execution_count": null,
   "metadata": {},
   "outputs": [],
   "source": [
    "# image size reduction\n",
    "\n",
    "# changes grey image to binary image\n",
    "def binarize(image, treshold=250):\n",
    "    for index in range(len(image)):\n",
    "        image[index] =  0 if image[index] < treshold else 1\n",
    "    return image\n",
    "\n",
    "# removes leading and trailing white pixels from binary image\n",
    "def trim_lead_and_tail(image):\n",
    "    start = -1\n",
    "    end = len(image)\n",
    "    index = 0\n",
    "    for value in image:\n",
    "        # first black value\n",
    "        if start == -1 and value < 1:\n",
    "            start = index -1\n",
    "        # last black value\n",
    "        if value < 1:\n",
    "            end = index\n",
    "        index += 1\n",
    "    return image[start:end]\n",
    "\n",
    "def reduce_image(image):\n",
    "    # flatten array\n",
    "    image = np.array(np.hstack(image))\n",
    "    image = binarize(image)\n",
    "    image = trim_lead_and_tail(image)\n",
    "    return image\n",
    "\n",
    "# Testing\n",
    "image = IMAGES[0]['image']\n",
    "print(image)\n",
    "print(image.shape)\n",
    "image = reduce_image(image)\n",
    "print(image)\n",
    "print(image.shape)"
   ]
  },
  {
   "cell_type": "code",
   "execution_count": null,
   "metadata": {},
   "outputs": [],
   "source": [
    "image1 = np.array(np.hstack(IMAGES[0]['image']))\n",
    "print(len(image1))\n",
    "print(image1)\n",
    "\n",
    "display_image(IMAGES[0]['image'])\n",
    "\n",
    "#index = np.argmax(image1 < 255)\n",
    "count = 0\n",
    "for value in image1:\n",
    "    # if value < 255:\n",
    "        # print(\"wow found a value\" + str(value) + \" at \" + str(count))\n",
    "    count += 1\n",
    "\n",
    "print(len(image1))"
   ]
  },
  {
   "cell_type": "code",
   "execution_count": null,
   "metadata": {},
   "outputs": [],
   "source": [
    "# trims the leading and trailing white pixels"
   ]
  },
  {
   "cell_type": "code",
   "execution_count": null,
   "metadata": {},
   "outputs": [],
   "source": [
    "# distance calculation test for 20 images compared to image 0\n",
    "image1 = np.concatenate(IMAGES[0]['image'])\n",
    "images = [np.concatenate(image['image']) for image in IMAGES[19:20]]\n",
    "print(image1)\n",
    "\n",
    "import time\n",
    "from dtaidistance import dtw\n",
    "import dtaidistance\n",
    "image1 = np.array(image1, dtype=np.double)\n",
    "start = time.time()\n",
    "for image in images:\n",
    "    break\n",
    "    print(image)\n",
    "    distance = dtw.distance_fast(image1, np.array(image, dtype=np.double), max_dist=4000,)\n",
    "    print(distance)\n",
    "end = time.time()\n",
    "print(\"took: \" + str(round(end - start, 2)) + \" seconds\")\n",
    "    "
   ]
  },
  {
   "cell_type": "code",
   "execution_count": null,
   "metadata": {},
   "outputs": [],
   "source": [
    "### Testing of dtaidistance https://dtaidistance.readthedocs.io/en/latest/usage/installation.html\n",
    "\n",
    "from dtaidistance import dtw\n",
    "import time\n",
    "\n",
    "result = dtw.try_import_c()\n",
    "print(result)\n",
    "\n",
    "image1 = np.array(np.concatenate(IMAGES[0]['image']), dtype=np.float)\n",
    "image2 = np.array(np.concatenate(IMAGES[19]['image']), dtype=np.float)\n",
    "display_image(IMAGES[1]['image'])\n",
    "display_image(IMAGES[19]['image'])\n",
    "\n",
    "start = time.time()\n",
    "distance = dtw.distance_fast(image1, image2)\n",
    "end = time.time()\n",
    "print(distance)\n",
    "print(\"took: \" + str(end - start))"
   ]
  },
  {
   "cell_type": "code",
   "execution_count": null,
   "metadata": {},
   "outputs": [],
   "source": [
    "### Testing of dtw https://github.com/pierre-rouanet/dtw\n",
    "\n",
    "import numpy as np\n",
    "\n",
    "# We define two sequences x, y as numpy array\n",
    "# where y is actually a sub-sequence from x\n",
    "x = np.array([2, 0, 1, 1, 2, 4, 2, 1, 2, 0]).reshape(-1, 1)\n",
    "y = np.array([1, 1, 2, 4, 2, 1, 2, 0]).reshape(-1, 1)\n",
    "\n",
    "from dtw import dtw\n",
    "\n",
    "\n",
    "manhattan_distance = lambda x, y: np.abs(x - y)\n",
    "\n",
    "result = dtw(x, y)\n",
    "\n",
    "print(result)\n",
    "\n",
    "# You can also visualise the accumulated cost and the shortest path\n",
    "\n"
   ]
  },
  {
   "cell_type": "code",
   "execution_count": null,
   "metadata": {},
   "outputs": [],
   "source": [
    "### Testing of dtw-python library https://dynamictimewarping.github.io/py-api/html/\n",
    "\n",
    "import dtw\n",
    "import numpy as np\n",
    "\n",
    "print(np.concatenate(IMAGES[0]['image']))\n",
    "query = np.concatenate(IMAGES[0]['image'])\n",
    "\n",
    "## A cosine is for template; sin and cos are offset by 25 samples\n",
    "template = np.concatenate(IMAGES[1]['image'])\n",
    "\n",
    "## Find the best match with the canonical recursion formula\n",
    "from dtw import *\n",
    "alignment = dtw(query, template, window_type=\"sakoechiba\")\n",
    "\n",
    "## Display the warping curve, i.e. the alignment curve\n",
    "alignment.plot(type=\"threeway\")\n",
    "\n",
    "## Align and plot with the Rabiner-Juang type VI-c unsmoothed recursion\n",
    "#dtw(query, template, \n",
    "#    step_pattern=rabinerJuangStepPattern(6, \"c\"))\\\n",
    "#    .plot(type=\"twoway\",offset=-2)\n",
    "\n",
    "## See the recursion relation, as formula and diagram\n",
    "#print(rabinerJuangStepPattern(6,\"c\"))\n",
    "#rabinerJuangStepPattern(6,\"c\").plot()\n",
    "\n",
    "## And much more!\n"
   ]
  },
  {
   "cell_type": "code",
   "execution_count": null,
   "metadata": {},
   "outputs": [],
   "source": [
    "images = [np.array(np.concatenate(image['image']), dtype=np.double) for image in IMAGES[:20]]\n",
    "series = [\n",
    "    np.array([0, 0, 1, 2, 1, 0, 1, 0, 0], dtype=np.double),\n",
    "    np.array([0.0, 1, 2, 0, 0, 0, 0, 0, 0, 0, 0]),\n",
    "    np.array([0.0, 0, 1, 2, 1, 0, 0, 0])\n",
    "]\n",
    "ds = dtw.distance_matrix_fast(series)"
   ]
  },
  {
   "cell_type": "markdown",
   "metadata": {},
   "source": [
    "### **dtaidistance:** fancy pantsy library for DTW\n",
    "##### Installation:\n",
    "`pip install dtaidistance`  \n",
    "**github:** [github-repo for dtaidistance](https://github.com/wannesm/dtaidistance)"
   ]
  },
  {
   "cell_type": "code",
   "execution_count": null,
   "metadata": {},
   "outputs": [],
   "source": [
    "from dtaidistance import dtw\n",
    "from dtaidistance import dtw_visualisation as dtwvis\n",
    "import numpy as np\n",
    "x = np.arange(0, 20, .5)\n",
    "s1 = np.sin(x)\n",
    "s2 = np.sin(x - 1)\n",
    "d, paths = dtw.warping_paths(s1, s2, window=25, psi=2)\n",
    "best_path = dtw.best_path(paths)\n",
    "dtwvis.plot_warpingpaths(s1, s2, paths, best_path)\n"
   ]
  },
  {
   "cell_type": "code",
   "execution_count": null,
   "metadata": {},
   "outputs": [],
   "source": [
    "print(len(IMAGES))"
   ]
  },
  {
   "cell_type": "code",
   "execution_count": null,
   "metadata": {},
   "outputs": [],
   "source": [
    "image1 = np.array(np.concatenate(IMAGES[0]['image']), dtype=np.float)\n",
    "image2 = np.array(np.concatenate(IMAGES[19]['image']), dtype=np.float)\n",
    "#print(IMAGES[872])\n",
    "#print(IMAGES[2007])\n",
    "\n",
    "display_image(IMAGES[1]['image'])\n",
    "display_image(IMAGES[19]['image'])\n",
    "distance = dtw.distance_fast(image1, image2)\n",
    "print(distance)\n",
    "\n",
    "image1 = np.array(np.concatenate(IMAGES[872]['image']), dtype=np.float)\n",
    "image2 = np.array(np.concatenate(IMAGES[2007]['image']), dtype=np.float)\n",
    "#print(IMAGES[872])\n",
    "#print(IMAGES[2007])\n",
    "\n",
    "display_image(IMAGES[872]['image'])\n",
    "display_image(IMAGES[2007]['image'])\n",
    "distance = dtw.distance_fast(image1, image2)\n",
    "print(distance)\n"
   ]
  },
  {
   "cell_type": "code",
   "execution_count": null,
   "metadata": {},
   "outputs": [],
   "source": [
    "from dtaidistance import dtw\n",
    "\n",
    "result = dtw.try_import_c()\n",
    "print(result)"
   ]
  },
  {
   "cell_type": "code",
   "execution_count": null,
   "metadata": {},
   "outputs": [],
   "source": []
  },
  {
   "cell_type": "code",
   "execution_count": null,
   "metadata": {},
   "outputs": [],
   "source": []
  },
  {
   "cell_type": "code",
   "execution_count": null,
   "metadata": {},
   "outputs": [],
   "source": []
  },
  {
   "cell_type": "code",
   "execution_count": null,
   "metadata": {},
   "outputs": [],
   "source": []
  },
  {
   "cell_type": "markdown",
   "metadata": {},
   "source": [
    "### DTW required steps\n",
    "- [ ] initialize matrix\n",
    "- [ ] calculate each field in the matrix\n",
    "- [ ] find the shortest path from 0,0 to i,j through the matrix by iterating and increasing either i, j or both\n",
    "##### Efficiency\n",
    "- [ ] only calculate matrix fields within a certain treshold (Sakoe-Chiba Band)"
   ]
  },
  {
   "cell_type": "code",
   "execution_count": null,
   "metadata": {},
   "outputs": [],
   "source": [
    "### Custom DTW\n",
    "def dtw(s, t):\n",
    "    n, m = len(s), len(t)\n",
    "    dtw_matrix = np.zeros((n+1, m+1))\n",
    "    for i in range(n+1):\n",
    "        for j in range(m+1):\n",
    "            dtw_matrix[i, j] = np.inf\n",
    "    dtw_matrix[0, 0] = 0\n",
    "    \n",
    "    for i in range(1, n+1):\n",
    "        for j in range(1, m+1):\n",
    "            cost = abs(s[i-1] - t[j-1])\n",
    "            # take last min from a square box\n",
    "            last_min = np.min([dtw_matrix[i-1, j], dtw_matrix[i, j-1], dtw_matrix[i-1, j-1]])\n",
    "            dtw_matrix[i, j] = cost + last_min\n",
    "    return dtw_matrix"
   ]
  },
  {
   "cell_type": "code",
   "execution_count": null,
   "metadata": {},
   "outputs": [],
   "source": [
    "from PIL import Image\n",
    "images = import_images()\n",
    "print(len(images[0]))\n",
    "\n",
    "# result = dtw([1,2,3], [2,2,2,2,3,4])\n",
    "# print(\"result: \" + str(result))\n",
    "display_image(images[0])\n"
   ]
  },
  {
   "cell_type": "markdown",
   "metadata": {},
   "source": [
    "#### Steps for the task\n",
    "- get all images\n",
    "- convert each image to a numpy array with dtype np.double"
   ]
  },
  {
   "cell_type": "code",
   "execution_count": null,
   "metadata": {},
   "outputs": [],
   "source": []
  },
  {
   "cell_type": "code",
   "execution_count": null,
   "metadata": {},
   "outputs": [],
   "source": [
    "from PIL import Image\n",
    "import numpy as np\n",
    "\n",
    "images = import_images()\n",
    "\n",
    "print(np.asarray(images[0]))\n",
    "\n",
    "display_image(images[0])"
   ]
  }
 ],
 "metadata": {
  "kernelspec": {
   "display_name": "Python 3",
   "language": "python",
   "name": "python3"
  },
  "language_info": {
   "codemirror_mode": {
    "name": "ipython",
    "version": 3
   },
   "file_extension": ".py",
   "mimetype": "text/x-python",
   "name": "python",
   "nbconvert_exporter": "python",
   "pygments_lexer": "ipython3",
   "version": "3.7.6"
  }
 },
 "nbformat": 4,
 "nbformat_minor": 4
}
