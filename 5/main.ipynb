{
 "cells": [
  {
   "cell_type": "markdown",
   "metadata": {},
   "source": [
    "**Some notebook stuff**"
   ]
  },
  {
   "cell_type": "code",
   "execution_count": 1,
   "metadata": {},
   "outputs": [],
   "source": [
    "from IPython.core.interactiveshell import InteractiveShell\n",
    "InteractiveShell.ast_node_interactivity = \"all\""
   ]
  },
  {
   "cell_type": "markdown",
   "metadata": {},
   "source": [
    "**Libraries**"
   ]
  },
  {
   "cell_type": "code",
   "execution_count": 2,
   "metadata": {},
   "outputs": [],
   "source": [
    "import numpy as np\n",
    "from matplotlib import pyplot as plt\n",
    "import PIL\n",
    "import time\n",
    "import methods as mt\n",
    "import datetime\n",
    "import pandas as pd"
   ]
  },
  {
   "cell_type": "markdown",
   "metadata": {},
   "source": [
    "**Import molecule data**"
   ]
  },
  {
   "cell_type": "code",
   "execution_count": 3,
   "metadata": {},
   "outputs": [],
   "source": [
    "# Create dictionaries of nodes/edges for all molecules\n",
    "roots = mt.importMolecule('gxl')\n",
    "nodesDict, edgesDict, edgesCountDict = mt.moleculeToList(roots)"
   ]
  },
  {
   "cell_type": "markdown",
   "metadata": {},
   "source": [
    "## KNN Algorithm:\n",
    "1. compare every molecule (from the valid set) with every other molecule (from the train set)\n",
    " - calculate for each the GED (graph edit distance between the two molecules) using bipartite graph matching\n",
    " - build cost matrix using Dirac cost function (see lecture 9 slide 36)\n",
    " - use Hungarian algorithm to find optimal assignment (using an existing framework!)\n",
    "2. for ever molecule (from the valid set) find the K closest molecules (in the test set)\n",
    " - the K molecules with the shortest GED (since we only have two classes (active, inactive): use odd K!)\n",
    " - using valid.txt check if the KNN (the K closest neighbour molecules) are active or inactive\n",
    " - assign train molecule to the closer class (and check if assignment was correct using valid.txt (for accuracy measurement))\n",
    " - repeat for neighbourhood size k from 1 to train set size"
   ]
  },
  {
   "cell_type": "markdown",
   "metadata": {},
   "source": [
    "**Import validation and training data**"
   ]
  },
  {
   "cell_type": "code",
   "execution_count": 4,
   "metadata": {},
   "outputs": [],
   "source": [
    "import pandas as pd\n",
    "def read_file(file):\n",
    "    df = pd.read_csv(file, sep=' ', header=None)\n",
    "    lst = df.values.tolist()\n",
    "    d = dict()\n",
    "    for elt in lst:\n",
    "        d[int(elt[0])] = {'class': elt[1], 'value': 1 if elt[1] == 'a' else 0}\n",
    "    #lst: list of molecules [number, a/i]\n",
    "    #  d: dict of molecules. key is number, value is {class: i/a, value: 1,0}\n",
    "    return lst, d\n",
    "\n",
    "validData, validDict = read_file('valid.txt')\n",
    "trainData, trainDict = read_file('train.txt')"
   ]
  },
  {
   "cell_type": "markdown",
   "metadata": {},
   "source": [
    "**Compute distance matrix**"
   ]
  },
  {
   "cell_type": "code",
   "execution_count": 13,
   "metadata": {},
   "outputs": [
    {
     "name": "stdout",
     "output_type": "stream",
     "text": [
      "computing distanceMatrix...\n",
      "Distance matrix found (0:00:16)\n"
     ]
    },
    {
     "data": {
      "text/html": [
       "<div>\n",
       "<style scoped>\n",
       "    .dataframe tbody tr th:only-of-type {\n",
       "        vertical-align: middle;\n",
       "    }\n",
       "\n",
       "    .dataframe tbody tr th {\n",
       "        vertical-align: top;\n",
       "    }\n",
       "\n",
       "    .dataframe thead th {\n",
       "        text-align: right;\n",
       "    }\n",
       "</style>\n",
       "<table border=\"1\" class=\"dataframe\">\n",
       "  <thead>\n",
       "    <tr style=\"text-align: right;\">\n",
       "      <th></th>\n",
       "      <th>0</th>\n",
       "      <th>1</th>\n",
       "      <th>2</th>\n",
       "      <th>3</th>\n",
       "      <th>4</th>\n",
       "      <th>5</th>\n",
       "      <th>6</th>\n",
       "      <th>7</th>\n",
       "      <th>8</th>\n",
       "      <th>9</th>\n",
       "      <th>...</th>\n",
       "      <th>240</th>\n",
       "      <th>241</th>\n",
       "      <th>242</th>\n",
       "      <th>243</th>\n",
       "      <th>244</th>\n",
       "      <th>245</th>\n",
       "      <th>246</th>\n",
       "      <th>247</th>\n",
       "      <th>248</th>\n",
       "      <th>249</th>\n",
       "    </tr>\n",
       "  </thead>\n",
       "  <tbody>\n",
       "    <tr>\n",
       "      <th>0</th>\n",
       "      <td>19.0</td>\n",
       "      <td>12.0</td>\n",
       "      <td>14.0</td>\n",
       "      <td>19.0</td>\n",
       "      <td>26.0</td>\n",
       "      <td>33.0</td>\n",
       "      <td>25.0</td>\n",
       "      <td>25.0</td>\n",
       "      <td>29.0</td>\n",
       "      <td>26.0</td>\n",
       "      <td>...</td>\n",
       "      <td>9.0</td>\n",
       "      <td>13.0</td>\n",
       "      <td>17.0</td>\n",
       "      <td>11.0</td>\n",
       "      <td>11.0</td>\n",
       "      <td>13.0</td>\n",
       "      <td>11.0</td>\n",
       "      <td>17.0</td>\n",
       "      <td>9.0</td>\n",
       "      <td>9.0</td>\n",
       "    </tr>\n",
       "    <tr>\n",
       "      <th>1</th>\n",
       "      <td>28.0</td>\n",
       "      <td>13.0</td>\n",
       "      <td>3.0</td>\n",
       "      <td>12.0</td>\n",
       "      <td>19.0</td>\n",
       "      <td>24.0</td>\n",
       "      <td>18.0</td>\n",
       "      <td>14.0</td>\n",
       "      <td>20.0</td>\n",
       "      <td>15.0</td>\n",
       "      <td>...</td>\n",
       "      <td>16.0</td>\n",
       "      <td>16.0</td>\n",
       "      <td>24.0</td>\n",
       "      <td>16.0</td>\n",
       "      <td>16.0</td>\n",
       "      <td>16.0</td>\n",
       "      <td>18.0</td>\n",
       "      <td>26.0</td>\n",
       "      <td>14.0</td>\n",
       "      <td>18.0</td>\n",
       "    </tr>\n",
       "    <tr>\n",
       "      <th>2</th>\n",
       "      <td>29.0</td>\n",
       "      <td>14.0</td>\n",
       "      <td>4.0</td>\n",
       "      <td>9.0</td>\n",
       "      <td>16.0</td>\n",
       "      <td>21.0</td>\n",
       "      <td>17.0</td>\n",
       "      <td>9.0</td>\n",
       "      <td>19.0</td>\n",
       "      <td>12.0</td>\n",
       "      <td>...</td>\n",
       "      <td>19.0</td>\n",
       "      <td>17.0</td>\n",
       "      <td>25.0</td>\n",
       "      <td>17.0</td>\n",
       "      <td>17.0</td>\n",
       "      <td>17.0</td>\n",
       "      <td>23.0</td>\n",
       "      <td>29.0</td>\n",
       "      <td>15.0</td>\n",
       "      <td>23.0</td>\n",
       "    </tr>\n",
       "    <tr>\n",
       "      <th>3</th>\n",
       "      <td>31.0</td>\n",
       "      <td>12.0</td>\n",
       "      <td>20.0</td>\n",
       "      <td>11.0</td>\n",
       "      <td>8.0</td>\n",
       "      <td>19.0</td>\n",
       "      <td>15.0</td>\n",
       "      <td>15.0</td>\n",
       "      <td>19.0</td>\n",
       "      <td>18.0</td>\n",
       "      <td>...</td>\n",
       "      <td>25.0</td>\n",
       "      <td>27.0</td>\n",
       "      <td>27.0</td>\n",
       "      <td>23.0</td>\n",
       "      <td>23.0</td>\n",
       "      <td>27.0</td>\n",
       "      <td>31.0</td>\n",
       "      <td>35.0</td>\n",
       "      <td>23.0</td>\n",
       "      <td>33.0</td>\n",
       "    </tr>\n",
       "    <tr>\n",
       "      <th>4</th>\n",
       "      <td>37.0</td>\n",
       "      <td>18.0</td>\n",
       "      <td>16.0</td>\n",
       "      <td>7.0</td>\n",
       "      <td>12.0</td>\n",
       "      <td>13.0</td>\n",
       "      <td>3.0</td>\n",
       "      <td>15.0</td>\n",
       "      <td>13.0</td>\n",
       "      <td>22.0</td>\n",
       "      <td>...</td>\n",
       "      <td>23.0</td>\n",
       "      <td>25.0</td>\n",
       "      <td>33.0</td>\n",
       "      <td>21.0</td>\n",
       "      <td>21.0</td>\n",
       "      <td>27.0</td>\n",
       "      <td>29.0</td>\n",
       "      <td>35.0</td>\n",
       "      <td>19.0</td>\n",
       "      <td>29.0</td>\n",
       "    </tr>\n",
       "    <tr>\n",
       "      <th>...</th>\n",
       "      <td>...</td>\n",
       "      <td>...</td>\n",
       "      <td>...</td>\n",
       "      <td>...</td>\n",
       "      <td>...</td>\n",
       "      <td>...</td>\n",
       "      <td>...</td>\n",
       "      <td>...</td>\n",
       "      <td>...</td>\n",
       "      <td>...</td>\n",
       "      <td>...</td>\n",
       "      <td>...</td>\n",
       "      <td>...</td>\n",
       "      <td>...</td>\n",
       "      <td>...</td>\n",
       "      <td>...</td>\n",
       "      <td>...</td>\n",
       "      <td>...</td>\n",
       "      <td>...</td>\n",
       "      <td>...</td>\n",
       "      <td>...</td>\n",
       "    </tr>\n",
       "    <tr>\n",
       "      <th>245</th>\n",
       "      <td>20.0</td>\n",
       "      <td>19.0</td>\n",
       "      <td>21.0</td>\n",
       "      <td>24.0</td>\n",
       "      <td>33.0</td>\n",
       "      <td>34.0</td>\n",
       "      <td>30.0</td>\n",
       "      <td>32.0</td>\n",
       "      <td>30.0</td>\n",
       "      <td>31.0</td>\n",
       "      <td>...</td>\n",
       "      <td>6.0</td>\n",
       "      <td>14.0</td>\n",
       "      <td>18.0</td>\n",
       "      <td>12.0</td>\n",
       "      <td>14.0</td>\n",
       "      <td>14.0</td>\n",
       "      <td>6.0</td>\n",
       "      <td>20.0</td>\n",
       "      <td>12.0</td>\n",
       "      <td>6.0</td>\n",
       "    </tr>\n",
       "    <tr>\n",
       "      <th>246</th>\n",
       "      <td>22.0</td>\n",
       "      <td>21.0</td>\n",
       "      <td>19.0</td>\n",
       "      <td>24.0</td>\n",
       "      <td>31.0</td>\n",
       "      <td>34.0</td>\n",
       "      <td>30.0</td>\n",
       "      <td>30.0</td>\n",
       "      <td>30.0</td>\n",
       "      <td>27.0</td>\n",
       "      <td>...</td>\n",
       "      <td>10.0</td>\n",
       "      <td>12.0</td>\n",
       "      <td>18.0</td>\n",
       "      <td>10.0</td>\n",
       "      <td>12.0</td>\n",
       "      <td>12.0</td>\n",
       "      <td>6.0</td>\n",
       "      <td>20.0</td>\n",
       "      <td>12.0</td>\n",
       "      <td>6.0</td>\n",
       "    </tr>\n",
       "    <tr>\n",
       "      <th>247</th>\n",
       "      <td>16.0</td>\n",
       "      <td>17.0</td>\n",
       "      <td>17.0</td>\n",
       "      <td>22.0</td>\n",
       "      <td>29.0</td>\n",
       "      <td>34.0</td>\n",
       "      <td>26.0</td>\n",
       "      <td>26.0</td>\n",
       "      <td>30.0</td>\n",
       "      <td>29.0</td>\n",
       "      <td>...</td>\n",
       "      <td>8.0</td>\n",
       "      <td>10.0</td>\n",
       "      <td>14.0</td>\n",
       "      <td>10.0</td>\n",
       "      <td>8.0</td>\n",
       "      <td>12.0</td>\n",
       "      <td>8.0</td>\n",
       "      <td>18.0</td>\n",
       "      <td>6.0</td>\n",
       "      <td>6.0</td>\n",
       "    </tr>\n",
       "    <tr>\n",
       "      <th>248</th>\n",
       "      <td>12.0</td>\n",
       "      <td>19.0</td>\n",
       "      <td>19.0</td>\n",
       "      <td>22.0</td>\n",
       "      <td>27.0</td>\n",
       "      <td>38.0</td>\n",
       "      <td>30.0</td>\n",
       "      <td>26.0</td>\n",
       "      <td>36.0</td>\n",
       "      <td>29.0</td>\n",
       "      <td>...</td>\n",
       "      <td>12.0</td>\n",
       "      <td>6.0</td>\n",
       "      <td>8.0</td>\n",
       "      <td>10.0</td>\n",
       "      <td>8.0</td>\n",
       "      <td>6.0</td>\n",
       "      <td>12.0</td>\n",
       "      <td>14.0</td>\n",
       "      <td>8.0</td>\n",
       "      <td>8.0</td>\n",
       "    </tr>\n",
       "    <tr>\n",
       "      <th>249</th>\n",
       "      <td>18.0</td>\n",
       "      <td>21.0</td>\n",
       "      <td>23.0</td>\n",
       "      <td>26.0</td>\n",
       "      <td>35.0</td>\n",
       "      <td>38.0</td>\n",
       "      <td>32.0</td>\n",
       "      <td>34.0</td>\n",
       "      <td>32.0</td>\n",
       "      <td>33.0</td>\n",
       "      <td>...</td>\n",
       "      <td>10.0</td>\n",
       "      <td>12.0</td>\n",
       "      <td>16.0</td>\n",
       "      <td>12.0</td>\n",
       "      <td>14.0</td>\n",
       "      <td>10.0</td>\n",
       "      <td>10.0</td>\n",
       "      <td>18.0</td>\n",
       "      <td>14.0</td>\n",
       "      <td>8.0</td>\n",
       "    </tr>\n",
       "  </tbody>\n",
       "</table>\n",
       "<p>250 rows × 250 columns</p>\n",
       "</div>"
      ],
      "text/plain": [
       "      0     1     2     3     4     5     6     7     8     9    ...   240  \\\n",
       "0    19.0  12.0  14.0  19.0  26.0  33.0  25.0  25.0  29.0  26.0  ...   9.0   \n",
       "1    28.0  13.0   3.0  12.0  19.0  24.0  18.0  14.0  20.0  15.0  ...  16.0   \n",
       "2    29.0  14.0   4.0   9.0  16.0  21.0  17.0   9.0  19.0  12.0  ...  19.0   \n",
       "3    31.0  12.0  20.0  11.0   8.0  19.0  15.0  15.0  19.0  18.0  ...  25.0   \n",
       "4    37.0  18.0  16.0   7.0  12.0  13.0   3.0  15.0  13.0  22.0  ...  23.0   \n",
       "..    ...   ...   ...   ...   ...   ...   ...   ...   ...   ...  ...   ...   \n",
       "245  20.0  19.0  21.0  24.0  33.0  34.0  30.0  32.0  30.0  31.0  ...   6.0   \n",
       "246  22.0  21.0  19.0  24.0  31.0  34.0  30.0  30.0  30.0  27.0  ...  10.0   \n",
       "247  16.0  17.0  17.0  22.0  29.0  34.0  26.0  26.0  30.0  29.0  ...   8.0   \n",
       "248  12.0  19.0  19.0  22.0  27.0  38.0  30.0  26.0  36.0  29.0  ...  12.0   \n",
       "249  18.0  21.0  23.0  26.0  35.0  38.0  32.0  34.0  32.0  33.0  ...  10.0   \n",
       "\n",
       "      241   242   243   244   245   246   247   248   249  \n",
       "0    13.0  17.0  11.0  11.0  13.0  11.0  17.0   9.0   9.0  \n",
       "1    16.0  24.0  16.0  16.0  16.0  18.0  26.0  14.0  18.0  \n",
       "2    17.0  25.0  17.0  17.0  17.0  23.0  29.0  15.0  23.0  \n",
       "3    27.0  27.0  23.0  23.0  27.0  31.0  35.0  23.0  33.0  \n",
       "4    25.0  33.0  21.0  21.0  27.0  29.0  35.0  19.0  29.0  \n",
       "..    ...   ...   ...   ...   ...   ...   ...   ...   ...  \n",
       "245  14.0  18.0  12.0  14.0  14.0   6.0  20.0  12.0   6.0  \n",
       "246  12.0  18.0  10.0  12.0  12.0   6.0  20.0  12.0   6.0  \n",
       "247  10.0  14.0  10.0   8.0  12.0   8.0  18.0   6.0   6.0  \n",
       "248   6.0   8.0  10.0   8.0   6.0  12.0  14.0   8.0   8.0  \n",
       "249  12.0  16.0  12.0  14.0  10.0  10.0  18.0  14.0   8.0  \n",
       "\n",
       "[250 rows x 250 columns]"
      ]
     },
     "execution_count": 13,
     "metadata": {},
     "output_type": "execute_result"
    }
   ],
   "source": [
    "# load or compute distance matrix for all molecules (takes ~25sec to compute)\n",
    "\n",
    "def computeDistance(molecule1, molecule2, cn, ce):\n",
    "    node1 = nodesDict[molecule1]\n",
    "    node2 = nodesDict[molecule2]\n",
    "    edges1 = edgesCountDict[molecule1]\n",
    "    edges2 = edgesCountDict[molecule2]\n",
    "    return mt.BP_fast(node1, node2, edges1, edges2, Cn=cn, Ce=ce)\n",
    "\n",
    "def distMat(cn,ce):\n",
    "    print(\"computing distanceMatrix...\")\n",
    "    a = np.array([i[0] for i in validData])\n",
    "    b = np.array([i[0] for i in trainData])\n",
    "    fv = np.vectorize(computeDistance)\n",
    "    start_time = time.time()\n",
    "    distanceMatrix = fv(a[:, np.newaxis], b, cn, ce)\n",
    "    print('Distance matrix found ({})'.format(datetime.timedelta(seconds=int(time.time() - start_time))))\n",
    "    #np.save(\"distanceMatrix.npy\", distanceMatrix)\n",
    "    return distanceMatrix\n",
    "\n",
    "distanceMatrix = distMat(1,1)\n",
    "pd.DataFrame(distanceMatrix)"
   ]
  },
  {
   "cell_type": "code",
   "execution_count": 9,
   "metadata": {},
   "outputs": [],
   "source": [
    "accuracy = 0\n",
    "k = 1\n",
    "accs = []\n",
    "k_vals = []\n",
    "validLength = len(validData)\n",
    "while k <= len(validData):\n",
    "    for r in range(len(validData)):\n",
    "        row = np.squeeze(np.asarray(distanceMatrix[r]))\n",
    "        idx = np.argpartition(row, k)\n",
    "        summation = 0\n",
    "        for i in range(k):\n",
    "            summation += trainDict[trainData[idx[i]][0]]['value']\n",
    "    \n",
    "        if summation > k/2:\n",
    "        #     active\n",
    "            if validDict[validData[r][0]]['class'] == 'a' :\n",
    "                accuracy += 1\n",
    "        else:\n",
    "        #     inactive\n",
    "            if validDict[validData[r][0]]['class'] == 'i' :\n",
    "                accuracy += 1\n",
    "    accs.append(accuracy/validLength)\n",
    "    k_vals.append(k)\n",
    "    k += 2\n",
    "    accuracy = 0"
   ]
  },
  {
   "cell_type": "markdown",
   "metadata": {},
   "source": [
    "#### Results\n",
    "Plotting shows the best neigbhourhood size k is with k=3  \n",
    "With k's larger than 99 the accuracy stays at 0.8."
   ]
  },
  {
   "cell_type": "code",
   "execution_count": 10,
   "metadata": {},
   "outputs": [
    {
     "data": {
      "text/plain": [
       "(<Figure size 648x288 with 1 Axes>,\n",
       " <matplotlib.axes._subplots.AxesSubplot at 0x1c8d3058>)"
      ]
     },
     "execution_count": 10,
     "metadata": {},
     "output_type": "execute_result"
    },
    {
     "data": {
      "text/plain": [
       "Text(0.5, 0, 'k')"
      ]
     },
     "execution_count": 10,
     "metadata": {},
     "output_type": "execute_result"
    },
    {
     "data": {
      "text/plain": [
       "Text(0, 0.5, 'accuracy')"
      ]
     },
     "execution_count": 10,
     "metadata": {},
     "output_type": "execute_result"
    },
    {
     "data": {
      "text/plain": [
       "[<matplotlib.lines.Line2D at 0x4561a90>]"
      ]
     },
     "execution_count": 10,
     "metadata": {},
     "output_type": "execute_result"
    },
    {
     "data": {
      "text/plain": [
       "Text(0.5, 1.0, 'Accuracy over increasing neighbourhood sizes K')"
      ]
     },
     "execution_count": 10,
     "metadata": {},
     "output_type": "execute_result"
    },
    {
     "data": {
      "image/png": "[encoded data removed]",
      "text/plain": [
       "<Figure size 648x288 with 1 Axes>"
      ]
     },
     "metadata": {
      "needs_background": "light"
     },
     "output_type": "display_data"
    }
   ],
   "source": [
    "import matplotlib as plt\n",
    "import matplotlib.pyplot as plt\n",
    "plt.subplots(figsize=(9,4))\n",
    "plt.xlabel('k')\n",
    "plt.ylabel('accuracy')\n",
    "plt.plot(k_vals[:55], accs[:55])\n",
    "plt.title(\"Accuracy over increasing neighbourhood sizes K\")\n",
    "plt.show()\n",
    "#plt.savefig(\"rmse_all.png\", dpi=300)"
   ]
  },
  {
   "cell_type": "code",
   "execution_count": 11,
   "metadata": {},
   "outputs": [
    {
     "name": "stdout",
     "output_type": "stream",
     "text": [
      "Worst K: 99 with accuracy: 0.8\n"
     ]
    }
   ],
   "source": [
    "print(\"Worst K:\", k_vals[np.argmin(accs)], \"with accuracy:\", min(accs))"
   ]
  },
  {
   "cell_type": "code",
   "execution_count": 12,
   "metadata": {},
   "outputs": [
    {
     "name": "stdout",
     "output_type": "stream",
     "text": [
      "Beest K: 3 with accuracy: 0.996\n"
     ]
    }
   ],
   "source": [
    "print(\"Beest K:\", k_vals[np.argmax(accs)], \"with accuracy:\", max(accs))"
   ]
  }
 ],
 "metadata": {
  "@webio": {
   "lastCommId": null,
   "lastKernelId": null
  },
  "kernelspec": {
   "display_name": "Python 3",
   "language": "python",
   "name": "python3"
  },
  "language_info": {
   "codemirror_mode": {
    "name": "ipython",
    "version": 3
   },
   "file_extension": ".py",
   "mimetype": "text/x-python",
   "name": "python",
   "nbconvert_exporter": "python",
   "pygments_lexer": "ipython3",
   "version": "3.8.2"
  }
 },
 "nbformat": 4,
 "nbformat_minor": 2
}
