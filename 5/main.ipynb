{
 "cells": [
  {
   "cell_type": "code",
   "execution_count": 1,
   "metadata": {},
   "outputs": [],
   "source": [
    "import numpy as np\n",
    "from matplotlib import pyplot as plt\n",
    "import PIL\n",
    "import cv2\n",
    "import time\n",
    "import pickle\n",
    "import methods as mt\n",
    "import csv"
   ]
  },
  {
   "cell_type": "code",
   "execution_count": 2,
   "metadata": {},
   "outputs": [
    {
     "name": "stdout",
     "output_type": "stream",
     "text": [
      "[10071, ['O', 'C', 'C', 'C', 'O', 'C', 'C', 'C', 'C', 'C', 'O', 'C']]\n",
      "[10071, [[1, 2], [1, 3], [3, 4], [3, 5], [4, 6], [4, 7], [5, 8], [6, 9], [7, 10], [8, 11], [9, 12], [6, 8], [10, 12]]]\n"
     ]
    }
   ],
   "source": [
    "# Create list of nodes/edges of each molecule \n",
    "nodesList = [[]]\n",
    "edgesList = [[]]\n",
    "\n",
    "roots = mt.importMolecule('gxl')\n",
    "\n",
    "listedMolecules = mt.moleculeToList(roots)\n",
    "nodesList = listedMolecules[0]\n",
    "edgesList = listedMolecules[1]\n",
    "print(nodesList[0])\n",
    "print(edgesList[0])"
   ]
  },
  {
   "cell_type": "code",
   "execution_count": 3,
   "metadata": {},
   "outputs": [],
   "source": [
    "# Transform lists to dictionnarys\n",
    "nodesDict = mt.moleculeNodeListToDict(nodesList)\n",
    "edgesDict = mt.moleculeEdgeListToDict(edgesList)\n",
    "# Count number of adjacent edges of each node\n",
    "edgesCountDict = mt.moleculeEdgesListToEdgeCountDict(nodesList, edgesDict)"
   ]
  },
  {
   "cell_type": "markdown",
   "metadata": {},
   "source": [
    "## KNN Algorithm:\n",
    "1. compare every molecule (from the valid set) with every other molecule (from the train set)\n",
    " - calculate each time the GED (graph edit distance between the two molecules)\n",
    " - to be more precise: approximate GED using bipartite graph matching\n",
    " - build cost matrix (using Dirac cost function (see lecture 9 slide 36))\n",
    " - use Hungarian algorithm to find optimal assignment (using an existing framework!)\n",
    "2. for ever molecule (from the train set) find the K closest molecules (in the valid set)\n",
    " - the K molecules with the shortest GED (since we only have two classes (active, inactive): use odd K!)\n",
    " - using valid.txt check if the KNN (the K closest neighbour molecules) are active or inactive\n",
    " - assign train molecule to the closer class (and check if assignment was correct using train.txt (for accuracy measurement))\n",
    " - also: optimize for K (task for later)"
   ]
  },
  {
   "cell_type": "code",
   "execution_count": 4,
   "metadata": {},
   "outputs": [],
   "source": [
    "# Read in train and valid files (len(train) + len(valid) = len(nodesList) (=len(edgesList)))\n",
    "with open('train.txt', newline='') as train:\n",
    "   reader = csv.reader(train, delimiter=' ')\n",
    "   stringTrainRows = []\n",
    "   for row in reader:\n",
    "        stringTrainRows.append(row)\n",
    "trainData = []\n",
    "trainDict = dict()\n",
    "for row in stringTrainRows:\n",
    "    trainData.append([int(row[0]),row[1]])\n",
    "    if (row[1] == 'a'):\n",
    "        trainDict[int(row[0])] = {'class': row[1], 'value': 1}\n",
    "    else:\n",
    "        trainDict[int(row[0])] = {'class': row[1], 'value': 0}\n",
    "\n",
    "with open('valid.txt', newline='') as train:\n",
    "   reader = csv.reader(train, delimiter=' ')\n",
    "   stringTrainRows = []\n",
    "   for row in reader:\n",
    "        stringTrainRows.append(row)\n",
    "validData = []\n",
    "validDict = dict()\n",
    "for row in stringTrainRows:\n",
    "    validData.append([int(row[0]),row[1]])\n",
    "    if (row[1] == 'a'):\n",
    "        validDict[int(row[0])] = {'class': row[1], 'value': 1}\n",
    "    else:\n",
    "        validDict[int(row[0])] = {'class': row[1], 'value': 0}"
   ]
  },
  {
   "cell_type": "code",
   "execution_count": 5,
   "metadata": {},
   "outputs": [
    {
     "name": "stdout",
     "output_type": "stream",
     "text": [
      "--- 1360.571976184845 seconds ---\n",
      "[[19. 28. 29. ... 16. 12. 18.]\n",
      " [12. 13. 14. ... 17. 19. 21.]\n",
      " [14.  3.  4. ... 17. 19. 23.]\n",
      " ...\n",
      " [17. 26. 29. ... 18. 14. 18.]\n",
      " [ 9. 14. 15. ...  6.  8. 14.]\n",
      " [ 9. 18. 23. ...  6.  8.  8.]]\n"
     ]
    }
   ],
   "source": [
    "# Create distance matrix (takes approx. 23 min)\n",
    "distanceMatrix = np.matrix(np.zeros((len(trainData), len(validData))))\n",
    "start_time = time.time()\n",
    "for i in range(len(trainData)):\n",
    "    for j in range(len(validData)):\n",
    "        molecule1 = trainData[i][0]\n",
    "        molecule2 = validData[j][0]\n",
    "        # using Cn = Ce = 1\n",
    "        dist = mt.BP(nodesDict[molecule1], nodesDict[molecule2], edgesCountDict[molecule1], edgesCountDict[molecule2])\n",
    "        distanceMatrix[i,j] = dist\n",
    "print(\"--- %s seconds ---\" % (time.time() - start_time))\n",
    "print(distanceMatrix)\n",
    "np.save(\"distanceMatrix.npy\", distanceMatrix)"
   ]
  },
  {
   "cell_type": "code",
   "execution_count": 6,
   "metadata": {},
   "outputs": [
    {
     "name": "stdout",
     "output_type": "stream",
     "text": [
      "249\n",
      "0.996\n"
     ]
    }
   ],
   "source": [
    "# Calculate accuracy\n",
    "accuracy = 0\n",
    "k = 5\n",
    "# extract k nearest neighbours\n",
    "for r in range(len(trainData)):\n",
    "    row = np.squeeze(np.asarray(distanceMatrix[r]))\n",
    "    idx = np.argpartition(row, k)\n",
    "    sum = 0\n",
    "    for i in range(k): \n",
    "        sum += validDict[validData[idx[i]][0]]['value']\n",
    "    \n",
    "    # assign molecule to class\n",
    "    if sum > k/2:\n",
    "    #     active\n",
    "        if trainDict[trainData[r][0]]['class'] == 'a' :\n",
    "            accuracy += 1\n",
    "    else:\n",
    "    #     inactive\n",
    "        if trainDict[trainData[r][0]]['class'] == 'i' :\n",
    "            accuracy += 1\n",
    "\n",
    "print(accuracy)\n",
    "print(accuracy/len(trainData))"
   ]
  },
  {
   "cell_type": "code",
   "execution_count": null,
   "metadata": {},
   "outputs": [],
   "source": []
  }
 ],
 "metadata": {
  "@webio": {
   "lastCommId": null,
   "lastKernelId": null
  },
  "kernelspec": {
   "display_name": "Python 3",
   "language": "python",
   "name": "python3"
  },
  "language_info": {
   "codemirror_mode": {
    "name": "ipython",
    "version": 3
   },
   "file_extension": ".py",
   "mimetype": "text/x-python",
   "name": "python",
   "nbconvert_exporter": "python",
   "pygments_lexer": "ipython3",
   "version": "3.7.6"
  }
 },
 "nbformat": 4,
 "nbformat_minor": 2
}
