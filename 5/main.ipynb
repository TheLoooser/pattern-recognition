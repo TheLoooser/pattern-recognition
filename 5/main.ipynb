{
 "cells": [
  {
   "cell_type": "code",
   "execution_count": 1,
   "metadata": {},
   "outputs": [],
   "source": [
    "import numpy as np\n",
    "from matplotlib import pyplot as plt\n",
    "import PIL\n",
    "import cv2\n",
    "import time\n",
    "import pickle\n",
    "import methods as mt\n",
    "import sys\n",
    "from munkres import Munkres, print_matrix"
   ]
  },
  {
   "cell_type": "code",
   "execution_count": 2,
   "metadata": {},
   "outputs": [
    {
     "name": "stdout",
     "output_type": "stream",
     "text": [
      "[10071, ['O', 'C', 'C', 'C', 'O', 'C', 'C', 'C', 'C', 'C', 'O', 'C']]\n",
      "[10071, [[1, 2], [1, 3], [3, 4], [3, 5], [4, 6], [4, 7], [5, 8], [6, 9], [7, 10], [8, 11], [9, 12], [6, 8], [10, 12]]]\n"
     ]
    }
   ],
   "source": [
    "# Create list of nodes/edges of each molecule \n",
    "nodesList = [[]]\n",
    "edgesList = [[]]\n",
    "\n",
    "roots = mt.importMolecule('gxl')\n",
    "\n",
    "listedMolecules = mt.moleculeToList(roots)\n",
    "nodesList = listedMolecules[0]\n",
    "edgesList = listedMolecules[1]\n",
    "print(nodesList[0])\n",
    "print(edgesList[0])"
   ]
  },
  {
   "cell_type": "code",
   "execution_count": 5,
   "metadata": {},
   "outputs": [],
   "source": [
    "# Transform lists to dictionnarys\n",
    "nodesDict = mt.moleculeNodeListToDict(nodesList)\n",
    "edgesDict = mt.moleculeEdgeListToDict(edgesList)\n",
    "# Count number of adjacent edges of each node\n",
    "edgesCountDict = mt.moleculeEdgesListToEdgeCountDict(nodesList, edgesDict)"
   ]
  },
  {
   "cell_type": "markdown",
   "metadata": {},
   "source": [
    "## KNN Algorithm:\n",
    "1. compare every molecule (from the valid set) with every other molecule (from the train set)\n",
    " - calculate each time the GED (graph edit distance between the two molecules)\n",
    " - to be more precise: approximate GED using bipartite graph matching\n",
    " - build cost matrix (using Dirac cost function (see lecture 9 slide 36))\n",
    " - use Hungarian algorithm to find optimal assignment (using an existing framework!)\n",
    "2. for ever molecule (from the valid set) find the K closest molecules (in the train set)\n",
    " - the K molecules with the shortest GED (since we only have two classes (active, inactive): use odd K!)\n",
    " - using train.txt check if the KNN are active or inactive\n",
    " - assign molecule to the closer class (and check if assignment was correct using valid.txt (for accuracy measure))\n",
    " - also: optimize for K (task for later)"
   ]
  },
  {
   "cell_type": "markdown",
   "metadata": {},
   "source": [
    "Current status: step 1 done for two molecules (see BP(..) in methods.py)"
   ]
  },
  {
   "cell_type": "markdown",
   "metadata": {},
   "source": [
    "Next step (TODO): create full matrix of distances between all molecules"
   ]
  },
  {
   "cell_type": "code",
   "execution_count": null,
   "metadata": {},
   "outputs": [],
   "source": []
  }
 ],
 "metadata": {
  "kernelspec": {
   "display_name": "Python 3",
   "language": "python",
   "name": "python3"
  },
  "language_info": {
   "codemirror_mode": {
    "name": "ipython",
    "version": 3
   },
   "file_extension": ".py",
   "mimetype": "text/x-python",
   "name": "python",
   "nbconvert_exporter": "python",
   "pygments_lexer": "ipython3",
   "version": "3.7.6"
  }
 },
 "nbformat": 4,
 "nbformat_minor": 2
}
